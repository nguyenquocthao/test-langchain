{
 "cells": [
  {
   "cell_type": "markdown",
   "id": "a302b83f",
   "metadata": {},
   "source": [
    "## Hello there"
   ]
  },
  {
   "cell_type": "code",
   "execution_count": 1,
   "id": "425bff6d",
   "metadata": {},
   "outputs": [
    {
     "data": {
      "text/plain": [
       "True"
      ]
     },
     "execution_count": 1,
     "metadata": {},
     "output_type": "execute_result"
    }
   ],
   "source": [
    "from langchain.llms import OpenAI\n",
    "from langchain.llms.human import HumanInputLLM\n",
    "from langchain.chat_models import ChatOpenAI\n",
    "from dotenv import load_dotenv\n",
    "import inspect\n",
    "import langchain\n",
    "from langchain.cache import SQLiteCache\n",
    "from langchain.prompts import PromptTemplate\n",
    "from langchain.chains import LLMChain\n",
    "from langchain.agents import load_tools, initialize_agent, AgentType, Tool\n",
    "from langchain.utilities import SerpAPIWrapper, BingSearchAPIWrapper\n",
    "from langchain.memory import ConversationBufferMemory\n",
    "\n",
    "\n",
    "\n",
    "langchain.llm_cache = SQLiteCache(database_path=\".langchain.db\")\n",
    "load_dotenv()"
   ]
  },
  {
   "cell_type": "code",
   "execution_count": 14,
   "id": "29d6938a",
   "metadata": {},
   "outputs": [],
   "source": [
    "lastmessages = [None]\n",
    "class NewChatOpenAI(ChatOpenAI):\n",
    "#     pass\n",
    "    def generate(self, messages, stop=None, callbacks = None, **kwargs):\n",
    "        print(f\"\"\"\n",
    "        -----\n",
    "        {messages[0][0]}\n",
    "        -----\n",
    "        \"\"\")\n",
    "        lastmessages[0] = messages\n",
    "        return super().generate(messages=messages, stop=stop, callbacks=callbacks, **kwargs)\n",
    "    "
   ]
  },
  {
   "cell_type": "code",
   "execution_count": 15,
   "id": "2bfc491e",
   "metadata": {},
   "outputs": [],
   "source": [
    "# llm = OpenAI(model_name=\"text-ada-001\")\n",
    "# llm = OpenAI(model_name='gpt-3.5-turbo')\n",
    "\n",
    "prompt = PromptTemplate(\n",
    "    input_variables=[\"product\"],\n",
    "    template=\"What is a good name for a company that makes {product}?\",\n",
    ")\n",
    "\n",
    "\n",
    "# default model: text-davinci-003\n",
    "# llm = ChatOpenAI(verbose=True, temperature=0)\n",
    "llm = NewChatOpenAI(verbose=True, temperature=0, model='gpt-3.5-turbo')\n",
    "chain = LLMChain(llm=llm, prompt=prompt)\n",
    "\n",
    "tools = load_tools([\"serpapi\", \"llm-math\"], llm=llm)\n",
    "\n",
    "\n",
    "search2 = BingSearchAPIWrapper()\n",
    "tools[0].description = 'A search engine. Useful for when you need to answer questions about current events. Input should be a search query. Prefer other specific search tool if possible'\n",
    "tools+= [Tool(\n",
    "        name = \"BingSearch\",\n",
    "        func=search2.run,\n",
    "        description=\"Useful for when you need to answer questions about literature or temperature or health. Input should be in Vietnamese\"\n",
    "#     ), Tool(\n",
    "#         name = \"HealthSearch\",\n",
    "#         func = lambda t: t,\n",
    "#         description=\"Useful for when you need to answer questions about health. Input should be in Vietnamese\"\n",
    "), \n",
    "#          Tool(\n",
    "#     name = \"ExecCommand\",\n",
    "#     func = lambda t: llm(t),\n",
    "#     description=\"Use when the input is not the question\"\n",
    "# )\n",
    "        ]\n",
    "memory = ConversationBufferMemory(memory_key=\"chat_history\", return_messages=True)\n",
    "\n",
    "# agent_chain = initialize_agent(tools, llm, agent=AgentType.CHAT_CONVERSATIONAL_REACT_DESCRIPTION, verbose=True, memory=memory)\n",
    "\n",
    "agent = initialize_agent(tools, llm, agent=AgentType.CHAT_CONVERSATIONAL_REACT_DESCRIPTION, verbose=True, memory=memory)\n",
    "\n",
    "\n",
    "# # llm = ChatOpenAI(model=\"gpt-3.5-turbo-0613\")\n",
    "# def prompt_func(prompt):\n",
    "#     print(f\"\\n===PROMPT====\\n{prompt}\\n=====END OF PROMPT======\")\n",
    "#     return prompt\n",
    "# # llm2 = HumanInputLLM(prompt_func=lambda prompt: )\n",
    "# # llm = OpenAI(verbose=True, prompt_func=prompt_func)"
   ]
  },
  {
   "cell_type": "code",
   "execution_count": 41,
   "id": "fb7169bc",
   "metadata": {
    "scrolled": true
   },
   "outputs": [
    {
     "name": "stdout",
     "output_type": "stream",
     "text": [
      "[{\"role\": \"system\", \"content\": \"Assistant is a large language model trained by OpenAI.\\n\\nAssistant is designed to be able to assist with a wide range of tasks, from answering simple questions to providing in-depth explanations and discussions on a wide range of topics. As a language model, Assistant is able to generate human-like text based on the input it receives, allowing it to engage in natural-sounding conversations and provide responses that are coherent and relevant to the topic at hand.\\n\\nAssistant is constantly learning and improving, and its capabilities are constantly evolving. It is able to process and understand large amounts of text, and can use this knowledge to provide accurate and informative responses to a wide range of questions. Additionally, Assistant is able to generate its own text based on the input it receives, allowing it to engage in discussions and provide explanations and descriptions on a wide range of topics.\\n\\nOverall, Assistant is a powerful system that can help with a wide range of tasks and provide valuable insights and information on a wide range of topics. Whether you need help with a specific question or just want to have a conversation about a particular topic, Assistant is here to assist.\"}, {\"role\": \"user\", \"content\": \"Hello, I'm thao\"}, {\"role\": \"assistant\", \"content\": \"Hello Thao! How can I assist you today?\"}, {\"role\": \"user\", \"content\": \"What's my name?\"}, {\"role\": \"assistant\", \"content\": \"Your name is Thao\"}, {\"role\": \"user\", \"content\": \"tell me the last letter in my name, and also tell me who won the world cup in 1978?\"}, {\"role\": \"assistant\", \"content\": \"The last letter in your name is 'o'. Argentina won the World Cup in 1978.\"}, {\"role\": \"user\", \"content\": \"TOOLS\\n------\\nAssistant can ask the user to use tools to look up information that may be helpful in answering the users original question. The tools the human can use are:\\n\\n> Search: A search engine. Useful for when you need to answer questions about current events. Input should be a search query. Prefer other specific search tool if possible\\n> Calculator: Useful for when you need to answer questions about math.\\n> BingSearch: Useful for when you need to answer questions about literature or temperature or health. Input should be in Vietnamese\\n\\nRESPONSE FORMAT INSTRUCTIONS\\n----------------------------\\n\\nWhen responding to me, please output a response in one of two formats:\\n\\n**Option 1:**\\nUse this if you want the human to use a tool.\\nMarkdown code snippet formatted in the following schema:\\n\\n```json\\n{\\n    \\\"action\\\": string, \\\\ The action to take. Must be one of Search, Calculator, BingSearch\\n    \\\"action_input\\\": string \\\\ The input to the action\\n}\\n```\\n\\n**Option #2:**\\nUse this if you want to respond directly to the human. Markdown code snippet formatted in the following schema:\\n\\n```json\\n{\\n    \\\"action\\\": \\\"Final Answer\\\",\\n    \\\"action_input\\\": string \\\\ You should put what you want to return to use here\\n}\\n```\\n\\nUSER'S INPUT\\n--------------------\\nHere is the user's input (remember to respond with a markdown code snippet of a json blob with a single action, and NOTHING else):\\n\\nDo you know Adastra visual novel by EchoProject?\"}, {\"role\": \"assistant\", \"content\": \"{\\n    \\\"action\\\": \\\"Search\\\",\\n    \\\"action_input\\\": \\\"Adastra visual novel EchoProject\\\"\\n}\"}, {\"role\": \"user\", \"content\": \"TOOL RESPONSE: \\n---------------------\\nAdastra is a romance visual novel with a whole bunch of sci-fi and political intrigue mixed in. You'll experience the perils of navigating an empire in ...\\n\\nUSER'S INPUT\\n--------------------\\n\\nOkay, so what is the response to my last comment? If using information obtained from the tools you must mention it explicitly without mentioning the tool names - I have forgotten all TOOL RESPONSES! Remember to respond with a markdown code snippet of a json blob with a single action, and NOTHING else.\"}]\n"
     ]
    }
   ],
   "source": [
    "# agent.run(\"tell me the last letter in my name, and also tell me who won the world cup in 1978?\")\n",
    "# agent.run(\"Hello, I'm thao\")\n",
    "# agent.run(\"Do you know Adastra visual novel by EchoProject?\")\n",
    "# print(memory.to_json())\n",
    "# help(llm.generate)\n",
    "# llm.run(\"Hello\")\n",
    "# dir(langchain)\n",
    "# help(llm.generate)\n",
    "mess = lastmessages[0][0]\n",
    "def formatdata(mess):\n",
    "    data = []\n",
    "    for v in mess:\n",
    "        role=v.type\n",
    "        if role=='human': role='user'\n",
    "        elif role=='ai': role='assistant'\n",
    "        data.append({\"role\": role, \"content\":v.content})\n",
    "    print(json.dumps(data))\n",
    "\n",
    "formatdata(mess)\n",
    "\n",
    "#     print('----------------')\n",
    "#     print(v.type)\n",
    "#     print(v)\n",
    "#     print('----------------')\n",
    "# help(mess[0])\n",
    "# mess[0].type"
   ]
  },
  {
   "cell_type": "code",
   "execution_count": null,
   "id": "2a6fb7a3",
   "metadata": {},
   "outputs": [],
   "source": [
    "llm_result = llm.generate([\"Tell me a joke\", \"Tell me a poem\"]*15)"
   ]
  },
  {
   "cell_type": "code",
   "execution_count": null,
   "id": "8d012bc4",
   "metadata": {},
   "outputs": [],
   "source": [
    "len(llm_result.generations)"
   ]
  },
  {
   "cell_type": "code",
   "execution_count": null,
   "id": "0af25967",
   "metadata": {},
   "outputs": [],
   "source": [
    "llm_result.generations[0]"
   ]
  },
  {
   "cell_type": "code",
   "execution_count": null,
   "id": "7525e236",
   "metadata": {},
   "outputs": [],
   "source": [
    "llm_result.generations[-1]"
   ]
  },
  {
   "cell_type": "code",
   "execution_count": null,
   "id": "87025372",
   "metadata": {},
   "outputs": [],
   "source": [
    "llm_result.llm_output"
   ]
  },
  {
   "cell_type": "code",
   "execution_count": null,
   "id": "275e9447",
   "metadata": {},
   "outputs": [],
   "source": [
    "llm.generate(['Tell me a joke'])"
   ]
  },
  {
   "cell_type": "code",
   "execution_count": null,
   "id": "0ffa0cb0",
   "metadata": {},
   "outputs": [],
   "source": [
    "llm.get_num_tokens(\"Tell me a joke\")"
   ]
  },
  {
   "cell_type": "code",
   "execution_count": null,
   "id": "0ca216c2",
   "metadata": {},
   "outputs": [],
   "source": [
    "llm.get_num_tokens(\"\\n\\nWhy did the chicken cross the road?\\n\\nTo get to the other side!\")"
   ]
  },
  {
   "cell_type": "code",
   "execution_count": null,
   "id": "150c544a",
   "metadata": {},
   "outputs": [],
   "source": [
    "dir(llm)"
   ]
  },
  {
   "cell_type": "code",
   "execution_count": null,
   "id": "f66c9513",
   "metadata": {},
   "outputs": [],
   "source": []
  }
 ],
 "metadata": {
  "kernelspec": {
   "display_name": "Python 3 (ipykernel)",
   "language": "python",
   "name": "python3"
  },
  "language_info": {
   "codemirror_mode": {
    "name": "ipython",
    "version": 3
   },
   "file_extension": ".py",
   "mimetype": "text/x-python",
   "name": "python",
   "nbconvert_exporter": "python",
   "pygments_lexer": "ipython3",
   "version": "3.11.4"
  }
 },
 "nbformat": 4,
 "nbformat_minor": 5
}
