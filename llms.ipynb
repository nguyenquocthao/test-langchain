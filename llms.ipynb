{
 "cells": [
  {
   "cell_type": "markdown",
   "id": "a302b83f",
   "metadata": {},
   "source": [
    "## Hello there"
   ]
  },
  {
   "cell_type": "code",
   "execution_count": 1,
   "id": "425bff6d",
   "metadata": {},
   "outputs": [
    {
     "data": {
      "text/plain": [
       "True"
      ]
     },
     "execution_count": 1,
     "metadata": {},
     "output_type": "execute_result"
    }
   ],
   "source": [
    "from langchain.llms import OpenAI\n",
    "from langchain.llms.human import HumanInputLLM\n",
    "from langchain.chat_models import ChatOpenAI\n",
    "from dotenv import load_dotenv\n",
    "import inspect\n",
    "import langchain\n",
    "from langchain.cache import SQLiteCache\n",
    "from langchain.prompts import PromptTemplate\n",
    "from langchain.chains import LLMChain\n",
    "from langchain.agents import load_tools, initialize_agent, AgentType, Tool\n",
    "from langchain.utilities import SerpAPIWrapper, BingSearchAPIWrapper\n",
    "from langchain.memory import ConversationBufferMemory\n",
    "from langchain.output_parsers import DatetimeOutputParser\n",
    "\n",
    "\n",
    "\n",
    "\n",
    "langchain.llm_cache = SQLiteCache(database_path=\".langchain.db\")\n",
    "load_dotenv()"
   ]
  },
  {
   "cell_type": "code",
   "execution_count": 2,
   "id": "29d6938a",
   "metadata": {},
   "outputs": [],
   "source": [
    "lastmessages = [None]\n",
    "class NewChatOpenAI(ChatOpenAI):\n",
    "#     pass\n",
    "    def generate(self, messages, stop=None, callbacks = None, **kwargs):\n",
    "        print(f\"\"\"\n",
    "        -----\n",
    "        {messages[0][0]}\n",
    "        -----\n",
    "        \"\"\")\n",
    "        lastmessages[0] = messages\n",
    "        return super().generate(messages=messages, stop=stop, callbacks=callbacks, **kwargs)\n",
    "\n",
    "# mess = lastmessages[0][0]\n",
    "def formatdata(mess):\n",
    "    data = []\n",
    "    for v in mess:\n",
    "        role=v.type\n",
    "        if role=='human': role='user'\n",
    "        elif role=='ai': role='assistant'\n",
    "        data.append({\"role\": role, \"content\":v.content})\n",
    "    print(json.dumps(data))"
   ]
  },
  {
   "cell_type": "code",
   "execution_count": 3,
   "id": "2bfc491e",
   "metadata": {},
   "outputs": [],
   "source": [
    "template = \"\"\"You are a chatbot having a conversation with a human.\n",
    "\n",
    "{chat_history}\n",
    "Human: {human_input}\n",
    "Chatbot:\"\"\"\n",
    "\n",
    "prompt = PromptTemplate(\n",
    "    input_variables=[\"chat_history\", \"human_input\"], template=template\n",
    ")\n",
    "memory = ConversationBufferMemory(memory_key=\"chat_history\")\n",
    "\n",
    "# default model: text-davinci-003\n",
    "# llm = ChatOpenAI(verbose=True, temperature=0)\n",
    "llm = NewChatOpenAI(verbose=True, temperature=0, model='gpt-3.5-turbo')\n",
    "llm_chain = LLMChain(\n",
    "    llm=OpenAI(),\n",
    "    prompt=prompt,\n",
    "    verbose=True,\n",
    "    memory=memory,\n",
    ")\n",
    "\n",
    "tools = load_tools([\"serpapi\", \"llm-math\"], llm=llm)\n",
    "\n",
    "\n",
    "search2 = BingSearchAPIWrapper()\n",
    "tools[0].description = 'A search engine. Useful for when you need to answer questions about current events. Input should be a search query. Prefer other specific search tool if possible'\n",
    "tools+= [Tool(\n",
    "        name = \"BingSearch\",\n",
    "        func=search2.run,\n",
    "        description=\"Useful for when you need to answer questions about literature or temperature or health. Input should be in Vietnamese\"\n",
    "#     ), Tool(\n",
    "#         name = \"HealthSearch\",\n",
    "#         func = lambda t: t,\n",
    "#         description=\"Useful for when you need to answer questions about health. Input should be in Vietnamese\"\n",
    "), \n",
    "#          Tool(\n",
    "#     name = \"ExecCommand\",\n",
    "#     func = lambda t: llm(t),\n",
    "#     description=\"Use when the input is not the question\"\n",
    "# )\n",
    "        ]\n",
    "memory = ConversationBufferMemory(memory_key=\"chat_history\", return_messages=True)\n",
    "\n",
    "# agent_chain = initialize_agent(tools, llm, agent=AgentType.CHAT_CONVERSATIONAL_REACT_DESCRIPTION, verbose=True, memory=memory)\n",
    "\n",
    "agent = initialize_agent(tools, llm, agent=AgentType.CHAT_CONVERSATIONAL_REACT_DESCRIPTION, verbose=True, memory=memory)\n",
    "\n",
    "\n",
    "# # llm = ChatOpenAI(model=\"gpt-3.5-turbo-0613\")\n",
    "# def prompt_func(prompt):\n",
    "#     print(f\"\\n===PROMPT====\\n{prompt}\\n=====END OF PROMPT======\")\n",
    "#     return prompt\n",
    "# # llm2 = HumanInputLLM(prompt_func=lambda prompt: )\n",
    "# # llm = OpenAI(verbose=True, prompt_func=prompt_func)"
   ]
  },
  {
   "cell_type": "code",
   "execution_count": 9,
   "id": "fb7169bc",
   "metadata": {
    "scrolled": true
   },
   "outputs": [
    {
     "name": "stdout",
     "output_type": "stream",
     "text": [
      "\n",
      "\n",
      "\u001b[1m> Entering new  chain...\u001b[0m\n",
      "Prompt after formatting:\n",
      "\u001b[32;1m\u001b[1;3mYou are a chatbot having a conversation with a human.\n",
      "\n",
      "Human: I'm Thao, 27 years old. Nice to meet you\n",
      "AI:  Hi Thao, nice to meet you too. How can I help you today?\n",
      "Human: What do people my age usually do in the morning?\n",
      "AI:  People your age usually start their mornings with a healthy breakfast, maybe some exercise, and getting ready for the day ahead. Some may also take some time to relax, read the news, or catch up with friends.\n",
      "Human: What is a healthy breakfast?\n",
      "AI:  A healthy breakfast usually consists of a combination of protein, fiber, healthy fats, and complex carbohydrates. Examples of healthy breakfast options include oatmeal with berries and nuts, omelets with vegetables, yogurt and fruit, or smoothies with protein powder.\n",
      "Human: Is dry ration considered a healthy breakfast?\n",
      "AI:  Not necessarily. Although some dry rations may provide some of the necessary nutrients for a healthy breakfast, most are processed and contain added sugars and sodium. It's best to opt for fresh ingredients and unprocessed foods when possible.\n",
      "Human: What is a cheap but nutrious dinner?\n",
      "Chatbot:\u001b[0m\n",
      "\n",
      "\u001b[1m> Finished chain.\u001b[0m\n"
     ]
    },
    {
     "data": {
      "text/plain": [
       "\" A cheap and nutritious dinner could include things like lentil soup, grilled fish with roasted vegetables, quinoa and beans, stir-fry with tofu and vegetables, or a vegetable-based pasta dish. All of these dishes are packed with essential nutrients, and they won't break the bank.\""
      ]
     },
     "execution_count": 9,
     "metadata": {},
     "output_type": "execute_result"
    }
   ],
   "source": [
    "\n",
    "\n",
    "# llm_chain.predict(human_input = \"What is a cheap but nutrious dinner?\")\n",
    "\n",
    "# agent.run(\"tell me the last letter in my name, and also tell me who won the world cup in 1978?\")\n",
    "# agent.run(\"Hello, I'm thao\")\n",
    "# agent.run(\"Do you know Adastra visual novel by EchoProject?\")\n",
    "# print(memory.to_json())\n",
    "# help(llm.generate)\n",
    "# llm.run(\"Hello\")\n",
    "# dir(langchain)\n",
    "# help(llm.generate)\n",
    "\n",
    "\n",
    "# formatdata(mess)\n",
    "# help(memory)\n",
    "# inspect.getsourcefile(ConversationBufferMemory)\n",
    "# memory.chat_memory.messages\n",
    "# memory.buffer\n",
    "# help(memory)\n",
    "\n",
    "#     print('----------------')\n",
    "#     print(v.type)\n",
    "#     print(v)\n",
    "#     print('----------------')\n",
    "# help(mess[0])\n",
    "# mess[0].type"
   ]
  },
  {
   "cell_type": "code",
   "execution_count": null,
   "id": "2a6fb7a3",
   "metadata": {},
   "outputs": [],
   "source": [
    "llm_result = llm.generate([\"Tell me a joke\", \"Tell me a poem\"]*15)"
   ]
  },
  {
   "cell_type": "code",
   "execution_count": null,
   "id": "8d012bc4",
   "metadata": {},
   "outputs": [],
   "source": [
    "len(llm_result.generations)"
   ]
  },
  {
   "cell_type": "code",
   "execution_count": null,
   "id": "0af25967",
   "metadata": {},
   "outputs": [],
   "source": [
    "llm_result.generations[0]"
   ]
  },
  {
   "cell_type": "code",
   "execution_count": null,
   "id": "7525e236",
   "metadata": {},
   "outputs": [],
   "source": [
    "llm_result.generations[-1]"
   ]
  },
  {
   "cell_type": "code",
   "execution_count": null,
   "id": "87025372",
   "metadata": {},
   "outputs": [],
   "source": [
    "llm_result.llm_output"
   ]
  },
  {
   "cell_type": "code",
   "execution_count": null,
   "id": "275e9447",
   "metadata": {},
   "outputs": [],
   "source": [
    "llm.generate(['Tell me a joke'])"
   ]
  },
  {
   "cell_type": "code",
   "execution_count": null,
   "id": "0ffa0cb0",
   "metadata": {},
   "outputs": [],
   "source": [
    "llm.get_num_tokens(\"Tell me a joke\")"
   ]
  },
  {
   "cell_type": "code",
   "execution_count": null,
   "id": "0ca216c2",
   "metadata": {},
   "outputs": [],
   "source": [
    "llm.get_num_tokens(\"\\n\\nWhy did the chicken cross the road?\\n\\nTo get to the other side!\")"
   ]
  },
  {
   "cell_type": "code",
   "execution_count": null,
   "id": "150c544a",
   "metadata": {},
   "outputs": [],
   "source": [
    "dir(llm)"
   ]
  },
  {
   "cell_type": "code",
   "execution_count": null,
   "id": "f66c9513",
   "metadata": {},
   "outputs": [],
   "source": []
  }
 ],
 "metadata": {
  "kernelspec": {
   "display_name": "Python 3 (ipykernel)",
   "language": "python",
   "name": "python3"
  },
  "language_info": {
   "codemirror_mode": {
    "name": "ipython",
    "version": 3
   },
   "file_extension": ".py",
   "mimetype": "text/x-python",
   "name": "python",
   "nbconvert_exporter": "python",
   "pygments_lexer": "ipython3",
   "version": "3.11.4"
  }
 },
 "nbformat": 4,
 "nbformat_minor": 5
}
