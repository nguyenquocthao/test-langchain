{
 "cells": [
  {
   "cell_type": "code",
   "execution_count": 1,
   "id": "47ffa6ec",
   "metadata": {},
   "outputs": [],
   "source": [
    "import math\n",
    "\n",
    "def is_prime(n):\n",
    "    if n <= 1:\n",
    "        return False\n",
    "    elif n <= 3:\n",
    "        return True\n",
    "    elif n % 2 == 0 or n % 3 == 0:\n",
    "        return False\n",
    "\n",
    "    i = 5\n",
    "    while i * i <= n:\n",
    "        if n % i == 0 or n % (i + 2) == 0:\n",
    "            return False\n",
    "        i += 6\n",
    "\n",
    "    return True"
   ]
  },
  {
   "cell_type": "code",
   "execution_count": 11,
   "id": "db4dd822",
   "metadata": {},
   "outputs": [
    {
     "name": "stdout",
     "output_type": "stream",
     "text": [
      "The largest prime number smaller than 99999999999 is 99999999977\n",
      "True\n"
     ]
    }
   ],
   "source": [
    "limit = 99999999999\n",
    "largest_prime = 0\n",
    "\n",
    "for num in range(limit, 1, -1):\n",
    "    if is_prime(num):\n",
    "        largest_prime = num\n",
    "        break\n",
    "\n",
    "print(\"The largest prime number smaller than\", limit, \"is\", largest_prime)\n",
    "print(is_prime(largest_prime))"
   ]
  },
  {
   "cell_type": "code",
   "execution_count": null,
   "id": "3d8bd4ca",
   "metadata": {},
   "outputs": [],
   "source": []
  }
 ],
 "metadata": {
  "kernelspec": {
   "display_name": "Python 3 (ipykernel)",
   "language": "python",
   "name": "python3"
  },
  "language_info": {
   "codemirror_mode": {
    "name": "ipython",
    "version": 3
   },
   "file_extension": ".py",
   "mimetype": "text/x-python",
   "name": "python",
   "nbconvert_exporter": "python",
   "pygments_lexer": "ipython3",
   "version": "3.11.4"
  }
 },
 "nbformat": 4,
 "nbformat_minor": 5
}
